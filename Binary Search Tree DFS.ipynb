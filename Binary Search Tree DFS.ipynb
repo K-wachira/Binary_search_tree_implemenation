{
 "cells": [
  {
   "cell_type": "markdown",
   "metadata": {},
   "source": [
    "## This code implements Traversal of a Binary Tree Using the Depth First Search"
   ]
  },
  {
   "cell_type": "code",
   "execution_count": 2,
   "metadata": {},
   "outputs": [],
   "source": [
    "# TreeNode definition \n",
    "\n",
    "class TreeNode():\n",
    "    def __init__(self, val = 0, left = None , right = None):\n",
    "        self.val = val\n",
    "        self.left = None\n",
    "        self.right = None    "
   ]
  },
  {
   "cell_type": "code",
   "execution_count": 28,
   "metadata": {},
   "outputs": [
    {
     "name": "stdout",
     "output_type": "stream",
     "text": [
      "1\n",
      "3\n",
      "5\n",
      "6\n",
      "7\n",
      "8\n"
     ]
    }
   ],
   "source": [
    "class Solution():\n",
    "    def __init__(self):\n",
    "        self.root = None\n",
    "        \n",
    "    def insertion(self, value):\n",
    "        if self.root ==None:\n",
    "            self.root = TreeNode(value) \n",
    "        else:\n",
    "            self._insertion(self.root, value)\n",
    "            \n",
    "    def _insertion(self, curr_node, value):\n",
    "        if value < curr_node.val:\n",
    "            if curr_node.left == None:\n",
    "                curr_node.left = TreeNode(value)\n",
    "            else:\n",
    "                self._insertion(curr_node.left, value)\n",
    "        elif value > curr_node.val:\n",
    "            if curr_node.right==None:\n",
    "                curr_node.right = TreeNode(value)\n",
    "            else:\n",
    "                self._insertion(curr_node.right, value)\n",
    "\n",
    "     # In _order_traversal               \n",
    "    def dfs_traversal_in_order(self):\n",
    "        if self.root == None:\n",
    "            return\n",
    "        else:\n",
    "            self._dfs_traversal_in_order(self.root)\n",
    "            \n",
    "    def _dfs_traversal_in_order(self, curr_node):\n",
    "        if curr_node != None:\n",
    "            self._dfs_traversal_in_order(curr_node.left)\n",
    "            print(curr_node.val)\n",
    "            self._dfs_traversal_in_order(curr_node.right)\n",
    "            \n",
    "    \n",
    "        # post -order traversal\n",
    "    def dfs_traversal_post_order(self):\n",
    "        if self.root == None:\n",
    "            return\n",
    "        else:\n",
    "            self._dfs_traversal_post_order(self.root)\n",
    "            \n",
    "    def _dfs_traversal_post_order(self, curr_node):\n",
    "        if curr_node != None:\n",
    "            self._dfs_traversal_post_order(curr_node.left)\n",
    "            self._dfs_traversal_post_order(curr_node.right)\n",
    "            print(curr_node.val)\n",
    "            \n",
    "        \n",
    "        # pre-order traversal \n",
    "    def dfs_traversal_pre_order(self):\n",
    "        if self.root == None:\n",
    "            return\n",
    "        else:\n",
    "            self._dfs_traversal_pre_order(self.root)\n",
    "            \n",
    "    def _dfs_traversal_pre_order(self, curr_node):\n",
    "        if curr_node != None:\n",
    "            self._dfs_traversal_pre_order(curr_node.left)\n",
    "            self._dfs_traversal_pre_order(curr_node.right)\n",
    "            print(curr_node.val)\n",
    "\n",
    "\n",
    "                    \n",
    "                    \n",
    "# Driver code\n",
    "Tree1 = Solution()\n",
    "z = [5,3,1,7,6,8]\n",
    "for x in z:\n",
    "    Tree1.insertion(x)\n",
    "    \n",
    "Tree1.dfs_traversal_in_order()            "
   ]
  },
  {
   "cell_type": "code",
   "execution_count": null,
   "metadata": {},
   "outputs": [],
   "source": []
  }
 ],
 "metadata": {
  "kernelspec": {
   "display_name": "Python 3",
   "language": "python",
   "name": "python3"
  },
  "language_info": {
   "codemirror_mode": {
    "name": "ipython",
    "version": 3
   },
   "file_extension": ".py",
   "mimetype": "text/x-python",
   "name": "python",
   "nbconvert_exporter": "python",
   "pygments_lexer": "ipython3",
   "version": "3.8.3"
  }
 },
 "nbformat": 4,
 "nbformat_minor": 4
}
