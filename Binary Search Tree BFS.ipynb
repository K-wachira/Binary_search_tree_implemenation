{
 "cells": [
  {
   "cell_type": "markdown",
   "metadata": {},
   "source": [
    "## This code implements Traversal of a Binary Tree Using the Breath First Search"
   ]
  },
  {
   "cell_type": "code",
   "execution_count": 13,
   "metadata": {},
   "outputs": [],
   "source": [
    "# Definition of a TreeNode\n",
    "\n",
    "class TreeNode():\n",
    "    def __init__(self, val = 0, left=None, right=None):\n",
    "        self.val = val\n",
    "        self.left = left\n",
    "        self.right = right\n"
   ]
  },
  {
   "cell_type": "code",
   "execution_count": 14,
   "metadata": {},
   "outputs": [
    {
     "name": "stdout",
     "output_type": "stream",
     "text": [
      "5 3 7 1 6 8 "
     ]
    }
   ],
   "source": [
    "# BST implementation class\n",
    "class Solution():\n",
    "    def __init__(self,):\n",
    "        self.root = None\n",
    "        \n",
    "    # This function populates the Tree\n",
    "    def insertion(self, value):\n",
    "        if self.root == None:\n",
    "            self.root = TreeNode(value)\n",
    "        else:\n",
    "            self._insertion(self.root, value)\n",
    "            \n",
    "    def _insertion(self, curr_node, value):\n",
    "        if value < curr_node.val:\n",
    "            if curr_node.left == None:\n",
    "                curr_node.left = TreeNode(value)\n",
    "            else:\n",
    "                self._insertion(curr_node.left, value)\n",
    "        elif value > curr_node.val:\n",
    "            if curr_node.right == None:\n",
    "                curr_node.right = TreeNode(value)\n",
    "            else:\n",
    "                self._insertion(curr_node.right, value)\n",
    "        else:\n",
    "            print(f'',value, \"Value already in Tree\")\n",
    "            \n",
    "   \n",
    "\n",
    "\n",
    "    def traversal(self):\n",
    "        queue =[]     # initialize a queue , first in first out \n",
    "        if self.root == None:  # If there is  no Tree return No values\n",
    "            return \"Tree Does  not exist\"\n",
    "        else:\n",
    "            queue.append(self.root) #  start from the top of the tree # root\n",
    "            \n",
    "            while len(queue) >0:  # if there is a node in the queue \n",
    "                \n",
    "                print(queue[0].val, end=\" \") # print the val of the node that has been in the queue the most i.e node at index 0\n",
    "                \n",
    "                curr_node = queue.pop(0)    # Remove the node that has just been printed out \n",
    "                \n",
    "                # We Go left to right on BFS unless told otherwise\n",
    "                if curr_node.left != None:  # check if there is  node on the left side of the curr node append it to the queue \n",
    "                    queue.append(curr_node.left)\n",
    "                if curr_node.right != None: # if there is a node on the right of the curr_node append it to queue\n",
    "                    queue.append(curr_node.right)\n",
    "\n",
    "            \n",
    "        \n",
    " \n",
    "# Driver code\n",
    "Tree1 = Solution()\n",
    "z = [5,3,1,7,6,8]\n",
    "for x in z:\n",
    "    Tree1.insertion(x)\n",
    "    \n",
    "Tree1.traversal()\n",
    "    \n",
    "    \n",
    "        \n",
    "            "
   ]
  }
 ],
 "metadata": {
  "kernelspec": {
   "display_name": "Python 3",
   "language": "python",
   "name": "python3"
  },
  "language_info": {
   "codemirror_mode": {
    "name": "ipython",
    "version": 3
   },
   "file_extension": ".py",
   "mimetype": "text/x-python",
   "name": "python",
   "nbconvert_exporter": "python",
   "pygments_lexer": "ipython3",
   "version": "3.8.3"
  }
 },
 "nbformat": 4,
 "nbformat_minor": 4
}
